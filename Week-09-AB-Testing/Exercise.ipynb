{
 "cells": [
  {
   "cell_type": "markdown",
   "id": "marine-stock",
   "metadata": {},
   "source": [
    "# Exercise with A/B Testing\n",
    "\n",
    "### Prompt\n",
    "\n",
    "Let’s imagine you work on the For You Page at TikTok. Your team decides that instead of a heart button, they want to change it to star hoping that it will lead to a higher engagement/like rate. The product manager told you that the current conversion rate is about 6% on average throughout the year, and that the team would be happy with an increase of 3%, meaning that the new design will be considered a success if it raises the engagement rate to 9%.\n",
    "\n",
    "Before rolling out the change, the team would be more comfortable testing it on a small number of users to see how it performs, so you suggest running an A/B test on a subset of the user base users."
   ]
  },
  {
   "cell_type": "code",
   "execution_count": 1,
   "id": "streaming-honor",
   "metadata": {},
   "outputs": [],
   "source": [
    "# Packages imports\n",
    "import numpy as np\n",
    "import pandas as pd\n",
    "\n",
    "# probability distributions & statistical functions\n",
    "import scipy.stats as stats\n",
    "# estimating statistical models\n",
    "import statsmodels.stats.api as sms\n",
    "\n",
    "import matplotlib.pyplot as plt\n",
    "import seaborn as sns\n",
    "\n",
    "#rounding function\n",
    "from math import ceil\n",
    "\n"
   ]
  },
  {
   "cell_type": "markdown",
   "id": "seeing-worse",
   "metadata": {},
   "source": [
    "### Sample Size Calculation"
   ]
  },
  {
   "cell_type": "code",
   "execution_count": 2,
   "id": "popular-permit",
   "metadata": {},
   "outputs": [
    {
     "data": {
      "text/plain": [
       "-0.11445118168989943"
      ]
     },
     "execution_count": 2,
     "metadata": {},
     "output_type": "execute_result"
    }
   ],
   "source": [
    "# Calculate effect size based on our expected rates\n",
    "effect_size = sms.proportion_effectsize(0.06, 0.09)\n",
    "effect_size"
   ]
  },
  {
   "cell_type": "code",
   "execution_count": 3,
   "id": "moving-regression",
   "metadata": {},
   "outputs": [
    {
     "data": {
      "text/plain": [
       "1199"
      ]
     },
     "execution_count": 3,
     "metadata": {},
     "output_type": "execute_result"
    }
   ],
   "source": [
    "# Calculate sample size needed\n",
    "required_n = sms.NormalIndPower().solve_power(\n",
    "    effect_size,\n",
    "    power = 0.8,\n",
    "    alpha = 0.05,\n",
    "    ratio = 1)\n",
    "\n",
    "required_n = ceil(required_n)\n",
    "required_n"
   ]
  },
  {
   "cell_type": "markdown",
   "id": "crucial-editing",
   "metadata": {},
   "source": [
    "### Collecting and preparing the data"
   ]
  },
  {
   "cell_type": "code",
   "execution_count": 4,
   "id": "literary-separate",
   "metadata": {},
   "outputs": [
    {
     "data": {
      "text/html": [
       "<div>\n",
       "<style scoped>\n",
       "    .dataframe tbody tr th:only-of-type {\n",
       "        vertical-align: middle;\n",
       "    }\n",
       "\n",
       "    .dataframe tbody tr th {\n",
       "        vertical-align: top;\n",
       "    }\n",
       "\n",
       "    .dataframe thead th {\n",
       "        text-align: right;\n",
       "    }\n",
       "</style>\n",
       "<table border=\"1\" class=\"dataframe\">\n",
       "  <thead>\n",
       "    <tr style=\"text-align: right;\">\n",
       "      <th></th>\n",
       "      <th>user_id</th>\n",
       "      <th>timestamp</th>\n",
       "      <th>group</th>\n",
       "      <th>button</th>\n",
       "      <th>liked</th>\n",
       "    </tr>\n",
       "  </thead>\n",
       "  <tbody>\n",
       "    <tr>\n",
       "      <th>0</th>\n",
       "      <td>767017</td>\n",
       "      <td>2017-01-12 22:58:15</td>\n",
       "      <td>control</td>\n",
       "      <td>star</td>\n",
       "      <td>0</td>\n",
       "    </tr>\n",
       "    <tr>\n",
       "      <th>1</th>\n",
       "      <td>793849</td>\n",
       "      <td>2017-01-23 22:36:11</td>\n",
       "      <td>treatment</td>\n",
       "      <td>star</td>\n",
       "      <td>0</td>\n",
       "    </tr>\n",
       "    <tr>\n",
       "      <th>2</th>\n",
       "      <td>905617</td>\n",
       "      <td>2017-01-20 14:12:19</td>\n",
       "      <td>treatment</td>\n",
       "      <td>star</td>\n",
       "      <td>0</td>\n",
       "    </tr>\n",
       "    <tr>\n",
       "      <th>3</th>\n",
       "      <td>746742</td>\n",
       "      <td>2017-01-23 11:38:30</td>\n",
       "      <td>control</td>\n",
       "      <td>heart</td>\n",
       "      <td>0</td>\n",
       "    </tr>\n",
       "    <tr>\n",
       "      <th>4</th>\n",
       "      <td>892356</td>\n",
       "      <td>2017-01-05 9:35:15</td>\n",
       "      <td>treatment</td>\n",
       "      <td>star</td>\n",
       "      <td>1</td>\n",
       "    </tr>\n",
       "  </tbody>\n",
       "</table>\n",
       "</div>"
      ],
      "text/plain": [
       "   user_id            timestamp      group button  liked\n",
       "0   767017  2017-01-12 22:58:15    control   star      0\n",
       "1   793849  2017-01-23 22:36:11  treatment   star      0\n",
       "2   905617  2017-01-20 14:12:19  treatment   star      0\n",
       "3   746742  2017-01-23 11:38:30    control  heart      0\n",
       "4   892356   2017-01-05 9:35:15  treatment   star      1"
      ]
     },
     "execution_count": 4,
     "metadata": {},
     "output_type": "execute_result"
    }
   ],
   "source": [
    "# Load the tiktok_data.csv into a dataframe\n",
    "df = pd.read_csv('data/tiktok_data.csv')\n",
    "\n",
    "df.head()"
   ]
  },
  {
   "cell_type": "code",
   "execution_count": 7,
   "id": "described-matrix",
   "metadata": {},
   "outputs": [
    {
     "name": "stdout",
     "output_type": "stream",
     "text": [
      "<class 'pandas.core.frame.DataFrame'>\n",
      "RangeIndex: 275781 entries, 0 to 275780\n",
      "Data columns (total 5 columns):\n",
      " #   Column     Non-Null Count   Dtype \n",
      "---  ------     --------------   ----- \n",
      " 0   user_id    275781 non-null  int64 \n",
      " 1   timestamp  275781 non-null  object\n",
      " 2   group      275781 non-null  object\n",
      " 3   button     275781 non-null  object\n",
      " 4   liked      275781 non-null  int64 \n",
      "dtypes: int64(2), object(3)\n",
      "memory usage: 10.5+ MB\n",
      "None\n"
     ]
    }
   ],
   "source": [
    "# Get the info of the dataframe\n",
    "print(df.info())"
   ]
  },
  {
   "cell_type": "code",
   "execution_count": 10,
   "id": "metallic-providence",
   "metadata": {},
   "outputs": [
    {
     "data": {
      "text/html": [
       "<div>\n",
       "<style scoped>\n",
       "    .dataframe tbody tr th:only-of-type {\n",
       "        vertical-align: middle;\n",
       "    }\n",
       "\n",
       "    .dataframe tbody tr th {\n",
       "        vertical-align: top;\n",
       "    }\n",
       "\n",
       "    .dataframe thead th {\n",
       "        text-align: right;\n",
       "    }\n",
       "</style>\n",
       "<table border=\"1\" class=\"dataframe\">\n",
       "  <thead>\n",
       "    <tr style=\"text-align: right;\">\n",
       "      <th>button</th>\n",
       "      <th>heart</th>\n",
       "      <th>star</th>\n",
       "    </tr>\n",
       "    <tr>\n",
       "      <th>group</th>\n",
       "      <th></th>\n",
       "      <th></th>\n",
       "    </tr>\n",
       "  </thead>\n",
       "  <tbody>\n",
       "    <tr>\n",
       "      <th>control</th>\n",
       "      <td>134233</td>\n",
       "      <td>0</td>\n",
       "    </tr>\n",
       "    <tr>\n",
       "      <th>treatment</th>\n",
       "      <td>0</td>\n",
       "      <td>134425</td>\n",
       "    </tr>\n",
       "  </tbody>\n",
       "</table>\n",
       "</div>"
      ],
      "text/plain": [
       "button      heart    star\n",
       "group                    \n",
       "control    134233       0\n",
       "treatment       0  134425"
      ]
     },
     "execution_count": 10,
     "metadata": {},
     "output_type": "execute_result"
    }
   ],
   "source": [
    "# Make sure all the control group are seeing the star button and viceversa\n",
    "pd.crosstab(df['group'], df['button'])"
   ]
  },
  {
   "cell_type": "code",
   "execution_count": 13,
   "id": "fancy-lucas",
   "metadata": {},
   "outputs": [
    {
     "data": {
      "text/plain": [
       "1"
      ]
     },
     "execution_count": 13,
     "metadata": {},
     "output_type": "execute_result"
    }
   ],
   "source": [
    "# Check that no users have been sampled multiple times \n",
    "session_count = df['user_id'].value_counts()\n",
    "multiple_users = session_count[session_count > 1].count()\n",
    "multiple_users"
   ]
  },
  {
   "cell_type": "code",
   "execution_count": 14,
   "id": "appreciated-thomas",
   "metadata": {},
   "outputs": [
    {
     "name": "stdout",
     "output_type": "stream",
     "text": [
      "(268656, 5)\n"
     ]
    }
   ],
   "source": [
    "# If there are users who have been sampled multiple times, remove them from the dataframe\n",
    "users_to_drop = session_count[session_count > 1].index\n",
    "df = df[~df['user_id'].isin(users_to_drop)]\n",
    "print(df.shape)"
   ]
  },
  {
   "cell_type": "code",
   "execution_count": 15,
   "id": "37af29b0",
   "metadata": {},
   "outputs": [
    {
     "data": {
      "text/html": [
       "<div>\n",
       "<style scoped>\n",
       "    .dataframe tbody tr th:only-of-type {\n",
       "        vertical-align: middle;\n",
       "    }\n",
       "\n",
       "    .dataframe tbody tr th {\n",
       "        vertical-align: top;\n",
       "    }\n",
       "\n",
       "    .dataframe thead th {\n",
       "        text-align: right;\n",
       "    }\n",
       "</style>\n",
       "<table border=\"1\" class=\"dataframe\">\n",
       "  <thead>\n",
       "    <tr style=\"text-align: right;\">\n",
       "      <th>button</th>\n",
       "      <th>heart</th>\n",
       "      <th>star</th>\n",
       "    </tr>\n",
       "    <tr>\n",
       "      <th>group</th>\n",
       "      <th></th>\n",
       "      <th></th>\n",
       "    </tr>\n",
       "  </thead>\n",
       "  <tbody>\n",
       "    <tr>\n",
       "      <th>control</th>\n",
       "      <td>134233</td>\n",
       "      <td>0</td>\n",
       "    </tr>\n",
       "    <tr>\n",
       "      <th>treatment</th>\n",
       "      <td>0</td>\n",
       "      <td>134423</td>\n",
       "    </tr>\n",
       "  </tbody>\n",
       "</table>\n",
       "</div>"
      ],
      "text/plain": [
       "button      heart    star\n",
       "group                    \n",
       "control    134233       0\n",
       "treatment       0  134423"
      ]
     },
     "execution_count": 15,
     "metadata": {},
     "output_type": "execute_result"
    }
   ],
   "source": [
    "pd.crosstab(df['group'], df['button'])"
   ]
  },
  {
   "cell_type": "markdown",
   "id": "skilled-apple",
   "metadata": {},
   "source": [
    "#### Now that our DataFrame is nice and clean, we can proceed and sample n=4720 entries for each of the groups. We can use pandas' DataFrame.sample() method to do this, which will perform Simple Random Sampling for us."
   ]
  },
  {
   "cell_type": "code",
   "execution_count": 16,
   "id": "absolute-runner",
   "metadata": {},
   "outputs": [],
   "source": [
    "# Perform simple random sampling to split the data into control and treatment\n",
    "control_sample = df[df['group'] == 'control'].sample(n=required_n, random_state=444)\n",
    "treatment_sample = df[df['group'] == 'treatment'].sample(n=required_n, random_state=444)"
   ]
  },
  {
   "cell_type": "code",
   "execution_count": 17,
   "id": "durable-belfast",
   "metadata": {},
   "outputs": [
    {
     "data": {
      "text/html": [
       "<div>\n",
       "<style scoped>\n",
       "    .dataframe tbody tr th:only-of-type {\n",
       "        vertical-align: middle;\n",
       "    }\n",
       "\n",
       "    .dataframe tbody tr th {\n",
       "        vertical-align: top;\n",
       "    }\n",
       "\n",
       "    .dataframe thead th {\n",
       "        text-align: right;\n",
       "    }\n",
       "</style>\n",
       "<table border=\"1\" class=\"dataframe\">\n",
       "  <thead>\n",
       "    <tr style=\"text-align: right;\">\n",
       "      <th></th>\n",
       "      <th>user_id</th>\n",
       "      <th>timestamp</th>\n",
       "      <th>group</th>\n",
       "      <th>button</th>\n",
       "      <th>liked</th>\n",
       "    </tr>\n",
       "  </thead>\n",
       "  <tbody>\n",
       "    <tr>\n",
       "      <th>0</th>\n",
       "      <td>923141</td>\n",
       "      <td>2017-01-22 5:57:47</td>\n",
       "      <td>control</td>\n",
       "      <td>heart</td>\n",
       "      <td>0</td>\n",
       "    </tr>\n",
       "    <tr>\n",
       "      <th>1</th>\n",
       "      <td>672677</td>\n",
       "      <td>2017-01-06 23:30:47</td>\n",
       "      <td>control</td>\n",
       "      <td>heart</td>\n",
       "      <td>0</td>\n",
       "    </tr>\n",
       "    <tr>\n",
       "      <th>2</th>\n",
       "      <td>830874</td>\n",
       "      <td>2017-01-18 23:10:33</td>\n",
       "      <td>control</td>\n",
       "      <td>heart</td>\n",
       "      <td>0</td>\n",
       "    </tr>\n",
       "    <tr>\n",
       "      <th>3</th>\n",
       "      <td>824896</td>\n",
       "      <td>2017-01-19 17:45:24</td>\n",
       "      <td>control</td>\n",
       "      <td>heart</td>\n",
       "      <td>0</td>\n",
       "    </tr>\n",
       "    <tr>\n",
       "      <th>4</th>\n",
       "      <td>689786</td>\n",
       "      <td>2017-01-15 12:54:08</td>\n",
       "      <td>control</td>\n",
       "      <td>heart</td>\n",
       "      <td>0</td>\n",
       "    </tr>\n",
       "    <tr>\n",
       "      <th>...</th>\n",
       "      <td>...</td>\n",
       "      <td>...</td>\n",
       "      <td>...</td>\n",
       "      <td>...</td>\n",
       "      <td>...</td>\n",
       "    </tr>\n",
       "    <tr>\n",
       "      <th>2393</th>\n",
       "      <td>878911</td>\n",
       "      <td>2017-01-10 23:42:31</td>\n",
       "      <td>treatment</td>\n",
       "      <td>star</td>\n",
       "      <td>0</td>\n",
       "    </tr>\n",
       "    <tr>\n",
       "      <th>2394</th>\n",
       "      <td>744025</td>\n",
       "      <td>2017-01-09 20:31:38</td>\n",
       "      <td>treatment</td>\n",
       "      <td>star</td>\n",
       "      <td>0</td>\n",
       "    </tr>\n",
       "    <tr>\n",
       "      <th>2395</th>\n",
       "      <td>733542</td>\n",
       "      <td>2017-01-23 13:21:51</td>\n",
       "      <td>treatment</td>\n",
       "      <td>star</td>\n",
       "      <td>0</td>\n",
       "    </tr>\n",
       "    <tr>\n",
       "      <th>2396</th>\n",
       "      <td>793396</td>\n",
       "      <td>2017-01-11 14:40:48</td>\n",
       "      <td>treatment</td>\n",
       "      <td>star</td>\n",
       "      <td>0</td>\n",
       "    </tr>\n",
       "    <tr>\n",
       "      <th>2397</th>\n",
       "      <td>630068</td>\n",
       "      <td>2017-01-08 20:05:47</td>\n",
       "      <td>treatment</td>\n",
       "      <td>star</td>\n",
       "      <td>0</td>\n",
       "    </tr>\n",
       "  </tbody>\n",
       "</table>\n",
       "<p>2398 rows × 5 columns</p>\n",
       "</div>"
      ],
      "text/plain": [
       "      user_id            timestamp      group button  liked\n",
       "0      923141   2017-01-22 5:57:47    control  heart      0\n",
       "1      672677  2017-01-06 23:30:47    control  heart      0\n",
       "2      830874  2017-01-18 23:10:33    control  heart      0\n",
       "3      824896  2017-01-19 17:45:24    control  heart      0\n",
       "4      689786  2017-01-15 12:54:08    control  heart      0\n",
       "...       ...                  ...        ...    ...    ...\n",
       "2393   878911  2017-01-10 23:42:31  treatment   star      0\n",
       "2394   744025  2017-01-09 20:31:38  treatment   star      0\n",
       "2395   733542  2017-01-23 13:21:51  treatment   star      0\n",
       "2396   793396  2017-01-11 14:40:48  treatment   star      0\n",
       "2397   630068  2017-01-08 20:05:47  treatment   star      0\n",
       "\n",
       "[2398 rows x 5 columns]"
      ]
     },
     "execution_count": 17,
     "metadata": {},
     "output_type": "execute_result"
    }
   ],
   "source": [
    "# Create one table called ab_test that has both the cleaned control and treatment data\n",
    "\n",
    "ab_test = pd.concat([control_sample, treatment_sample], axis=0)\n",
    "ab_test.reset_index(drop=True, inplace=True)\n",
    "ab_test"
   ]
  },
  {
   "cell_type": "code",
   "execution_count": 18,
   "id": "conservative-occasions",
   "metadata": {},
   "outputs": [
    {
     "data": {
      "text/plain": [
       "control      1199\n",
       "treatment    1199\n",
       "Name: group, dtype: int64"
      ]
     },
     "execution_count": 18,
     "metadata": {},
     "output_type": "execute_result"
    }
   ],
   "source": [
    "# Count the test groups to make sure that they're balanced \n",
    "ab_test['group'].value_counts()"
   ]
  },
  {
   "cell_type": "markdown",
   "id": "metric-skill",
   "metadata": {},
   "source": [
    "### Analysis Visualization"
   ]
  },
  {
   "cell_type": "code",
   "execution_count": 19,
   "id": "satisfied-victoria",
   "metadata": {},
   "outputs": [
    {
     "name": "stdout",
     "output_type": "stream",
     "text": [
      "group      liked\n",
      "control    0        1043\n",
      "           1         156\n",
      "treatment  0        1052\n",
      "           1         147\n",
      "Name: liked, dtype: int64\n",
      "group\n",
      "control      0.336563\n",
      "treatment    0.328117\n",
      "Name: liked, dtype: float64\n",
      "group\n",
      "control      0.580141\n",
      "treatment    0.572815\n",
      "Name: liked, dtype: float64\n"
     ]
    },
    {
     "data": {
      "text/html": [
       "<div>\n",
       "<style scoped>\n",
       "    .dataframe tbody tr th:only-of-type {\n",
       "        vertical-align: middle;\n",
       "    }\n",
       "\n",
       "    .dataframe tbody tr th {\n",
       "        vertical-align: top;\n",
       "    }\n",
       "\n",
       "    .dataframe thead th {\n",
       "        text-align: right;\n",
       "    }\n",
       "</style>\n",
       "<table border=\"1\" class=\"dataframe\">\n",
       "  <thead>\n",
       "    <tr style=\"text-align: right;\">\n",
       "      <th></th>\n",
       "      <th>group</th>\n",
       "      <th>mean</th>\n",
       "      <th>std</th>\n",
       "      <th>sem</th>\n",
       "    </tr>\n",
       "  </thead>\n",
       "  <tbody>\n",
       "    <tr>\n",
       "      <th>0</th>\n",
       "      <td>control</td>\n",
       "      <td>0.130108</td>\n",
       "      <td>0.336563</td>\n",
       "      <td>0.009720</td>\n",
       "    </tr>\n",
       "    <tr>\n",
       "      <th>1</th>\n",
       "      <td>treatment</td>\n",
       "      <td>0.122602</td>\n",
       "      <td>0.328117</td>\n",
       "      <td>0.009476</td>\n",
       "    </tr>\n",
       "  </tbody>\n",
       "</table>\n",
       "</div>"
      ],
      "text/plain": [
       "       group      mean       std       sem\n",
       "0    control  0.130108  0.336563  0.009720\n",
       "1  treatment  0.122602  0.328117  0.009476"
      ]
     },
     "execution_count": 19,
     "metadata": {},
     "output_type": "execute_result"
    }
   ],
   "source": [
    "# Find the like rate by group\n",
    "like_rates = ab_test.groupby('group')['liked']\n",
    "\n",
    "print(ab_test.groupby('group')['liked'].value_counts())\n",
    "\n",
    "# Find the Std. deviation of the proportion\n",
    "print(ab_test.groupby('group')['liked'].std())\n",
    "\n",
    "# Find the Std. error of the proportion (std / sqrt(n))\n",
    "print(ab_test.groupby('group')['liked'].std().apply(lambda n: n ** (1/2)))\n",
    "\n",
    "# Calculate the final like rate\n",
    "like_rates = like_rates.agg(['mean', 'std', stats.sem]).reset_index()\n",
    "like_rates"
   ]
  },
  {
   "cell_type": "code",
   "execution_count": 20,
   "id": "reflected-ecology",
   "metadata": {},
   "outputs": [
    {
     "data": {
      "image/png": "[encoded data removed]",
      "text/plain": [
       "<Figure size 1100x800 with 1 Axes>"
      ]
     },
     "metadata": {},
     "output_type": "display_data"
    }
   ],
   "source": [
    "# Plot the like rate by group on a bar plot\n",
    "plt.figure(figsize = (11,8))\n",
    "\n",
    "sns.barplot(x = ab_test['group'], y = ab_test['liked'])\n",
    "\n",
    "plt.ylim(0, 0.17)\n",
    "plt.title('Like Rate By Group', pad = 40)\n",
    "plt.xlabel('Group', labelpad = 20)\n",
    "plt.ylabel('Liked', labelpad = 20);\n"
   ]
  },
  {
   "cell_type": "markdown",
   "id": "adolescent-footage",
   "metadata": {},
   "source": [
    "### Testing for Stat Sig"
   ]
  },
  {
   "cell_type": "code",
   "execution_count": 21,
   "id": "precious-chicken",
   "metadata": {},
   "outputs": [
    {
     "name": "stdout",
     "output_type": "stream",
     "text": [
      "# of Control Likes: 1199 \n",
      "# of Treatment Likes: 1199\n",
      "Total samples: 2398 \n",
      "Success from Control: 156 \n",
      "Success from Treatment: 147\n"
     ]
    }
   ],
   "source": [
    "from statsmodels.stats.proportion import proportions_ztest, proportion_confint\n",
    "\n",
    "# Get the like count for both control and treatment groups\n",
    "control_results = ab_test[ab_test['group'] == 'control']['liked']\n",
    "treatment_results = ab_test[ab_test['group'] == 'treatment']['liked']\n",
    "\n",
    "number_control = control_results.count()\n",
    "number_treatment = treatment_results.count()\n",
    "# Get the number of samples in both groups\n",
    "number_samples = [number_control, number_treatment]\n",
    "\n",
    "# Sum up the number of successes (likes) in both groups\n",
    "successes = [control_results.sum(), treatment_results.sum()]\n",
    "\n",
    "print(f\"# of Control Likes: {number_control} \\n# of Treatment Likes: {number_treatment}\")\n",
    "print(f\"Total samples: {number_samples[0] + number_samples[1]} \")\n",
    "print(f\"Success from Control: {successes[0]} \\nSuccess from Treatment: {successes[1]}\")"
   ]
  },
  {
   "cell_type": "code",
   "execution_count": 22,
   "id": "lesbian-emperor",
   "metadata": {},
   "outputs": [],
   "source": [
    "# Find the z statistic and p value for proportions based on normal ztest\n",
    "z_stat, pval = proportions_ztest(\n",
    "    successes,\n",
    "    nobs = number_samples)\n",
    "# Find the confidence intervals for each test group\n",
    "(lower_con, lower_treat), (upper_con, upper_treat) = proportion_confint(successes, nobs=number_samples, alpha=0.5)"
   ]
  },
  {
   "cell_type": "code",
   "execution_count": 23,
   "id": "filled-quality",
   "metadata": {},
   "outputs": [
    {
     "name": "stdout",
     "output_type": "stream",
     "text": [
      "Z Stats: 0.5531638248838598\n",
      "P val: 0.5801512355304022\n",
      "ci 95% for control group: [0.124, 0.137]\n",
      "ci 95% for treatment group: [0.116, 0.129]\n"
     ]
    }
   ],
   "source": [
    "# print z statistic\n",
    "print(f\"Z Stats: {z_stat}\")\n",
    "# print p-value\n",
    "print(f\"P val: {pval}\")\n",
    "# print ci 95% for control group\n",
    "print(f\"ci 95% for control group: [{lower_con:.3f}, {upper_con:.3f}]\")\n",
    "# print ci 95% for treatment group\n",
    "print(f\"ci 95% for treatment group: [{lower_treat:.3f}, {upper_treat:.3f}]\")"
   ]
  },
  {
   "cell_type": "markdown",
   "id": "closing-technique",
   "metadata": {},
   "source": [
    "### Were the results signficant? "
   ]
  },
  {
   "cell_type": "code",
   "execution_count": null,
   "id": "respected-uganda",
   "metadata": {},
   "outputs": [],
   "source": []
  },
  {
   "cell_type": "markdown",
   "id": "connected-tiffany",
   "metadata": {},
   "source": [
    "### What would you advise the engineering team to do moving forward?"
   ]
  },
  {
   "cell_type": "code",
   "execution_count": null,
   "id": "polar-power",
   "metadata": {},
   "outputs": [],
   "source": []
  }
 ],
 "metadata": {
  "kernelspec": {
   "display_name": "Python 3.10.8 64-bit",
   "language": "python",
   "name": "python3"
  },
  "language_info": {
   "codemirror_mode": {
    "name": "ipython",
    "version": 3
   },
   "file_extension": ".py",
   "mimetype": "text/x-python",
   "name": "python",
   "nbconvert_exporter": "python",
   "pygments_lexer": "ipython3",
   "version": "3.10.8"
  },
  "vscode": {
   "interpreter": {
    "hash": "b0fa6594d8f4cbf19f97940f81e996739fb7646882a419484c72d19e05852a7e"
   }
  }
 },
 "nbformat": 4,
 "nbformat_minor": 5
}
